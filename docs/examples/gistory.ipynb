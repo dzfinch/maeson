{
 "cells": [
  {
   "cell_type": "markdown",
   "id": "0",
   "metadata": {},
   "source": [
    "## gistory"
   ]
  },
  {
   "cell_type": "markdown",
   "id": "1",
   "metadata": {},
   "source": [
    "[![Open In Colab](https://colab.research.google.com/assets/colab-badge.svg)](https://colab.research.google.com/github/dzfinch/maeson/blob/main/docs/examples/gistory.ipynb)"
   ]
  },
  {
   "cell_type": "markdown",
   "id": "2",
   "metadata": {},
   "source": [
    "![UI Diagram](ui-diagram.png)"
   ]
  },
  {
   "cell_type": "markdown",
   "id": "3",
   "metadata": {},
   "source": [
    "1. **Scenes dropdown selector**\n",
    "   Choose which saved scene you want to load or edit.\n",
    "\n",
    "2. **Save button**\n",
    "   Persist the current map view and settings to the selected scene.\n",
    "\n",
    "3. **Preview button**\n",
    "   Open a live preview of the scene in a new pane or widget.\n",
    "\n",
    "4. **Copy button**\n",
    "   Duplicate the current scene’s settings into a new entry.\n",
    "\n",
    "5. **Delete button**\n",
    "   Remove the currently selected scene from your list.\n",
    "\n",
    "6. **Export button**\n",
    "   Download or export the scene’s data (e.g. GeoJSON, JSON).\n",
    "\n",
    "7. **Present button**\n",
    "   Launch a full‑screen presentation mode cycling through scenes.\n",
    "\n",
    "8. **Title text input**\n",
    "   Edit the human‑readable name of the current scene.\n",
    "\n",
    "9. **Order numeric input**\n",
    "   Specify the sequence position of this scene in presentations.\n",
    "\n",
    "10. **Sort Chrono checkbox**\n",
    "    Automatically sort scenes by their order value.\n",
    "\n",
    "11. **Lat numeric input**\n",
    "    Set the scene’s center latitude coordinate (automatically updates).\n",
    "\n",
    "12. **Lon numeric input**\n",
    "    Set the scene’s center longitude coordinate (automatically updates).\n",
    "\n",
    "13. **Zoom slider**\n",
    "    Adjust the map’s zoom level for this scene (automatically updates).\n",
    "\n",
    "14. **Fullscreen toggle**\n",
    "    Expand or contract the map view to fill the notebook cell.\n",
    "\n",
    "15. **URL/path text input**\n",
    "    Link to external imagery or load a local tile layer.\n",
    "\n",
    "16. **Clear Layers button**\n",
    "    Remove all added map layers from the current scene.\n",
    "\n",
    "17. **Show Log toggle**\n",
    "    Display or hide the action/event log for debugging.\n",
    "\n",
    "18. **Show Code toggle**\n",
    "    Open interactive python terminal connected to map/scene."
   ]
  },
  {
   "cell_type": "markdown",
   "id": "4",
   "metadata": {},
   "source": [
    "### SceneBuilder"
   ]
  },
  {
   "cell_type": "code",
   "execution_count": null,
   "id": "5",
   "metadata": {},
   "outputs": [],
   "source": [
    "## Uncomment the next line to install maeson\n",
    "# %pip install --upgrade maeson"
   ]
  },
  {
   "cell_type": "markdown",
   "id": "6",
   "metadata": {},
   "source": [
    "The maeson package's user interface is stored within the gistory module. This presentation application is designed to accomodate to all levels of geographic expertise. By accessing web- or locally-hosted files, you can display GeoJSON vectors, raster files, images, videos, and (by using the code editor) any data hosted within the Google Earth Engine Data Catalog. \n",
    "\n",
    "The first code block comprises the entirety of what is required to begin creating awesome geographic presentations! Once you import your necessary package and module, you just need 3 lines of code: \n",
    "\n",
    " 1. Create an interactive map with the base maeson.Map() class.\n",
    " 2. Connect the SceneBuilder class to the map.\n",
    " 3. Display the builder.\n",
    "\n",
    "The second code block contains example data to visualize to get familiar with the interface. \n",
    "\n",
    " 1. Raster Layer: (C) Copy and paste url into the URL/path box -> (P) click Preview\n",
    " 2. Vector Layer: C -> P\n",
    " 3. Image Layer: C -> (B) Bounds slider populates; choose prefered bounds -> P\n",
    " 4. Video Layer: [Currently Broken] C -> B -> P \n",
    " 5. Earth Engine Layer: (E) Open Code Editor -> (U) Uncomment desired code block -> (C) into code editor -> P"
   ]
  },
  {
   "cell_type": "code",
   "execution_count": null,
   "id": "7",
   "metadata": {},
   "outputs": [],
   "source": [
    "import maeson\n",
    "from maeson.gistory import SceneBuilder\n",
    "\n",
    "m = maeson.Map(center=(0, 0), zoom=2)\n",
    "builder = SceneBuilder(m)\n",
    "builder.display()"
   ]
  },
  {
   "cell_type": "code",
   "execution_count": null,
   "id": "8",
   "metadata": {},
   "outputs": [],
   "source": [
    "## Raster layer\n",
    "# https://github.com/opengeos/datasets/releases/download/samgeo/tree_image.tif\n",
    "\n",
    "## Vector layer\n",
    "# https://github.com/opengeos/datasets/releases/download/vector/TN_Counties.geojson\n",
    "\n",
    "## Video layer\n",
    "# https://github.com/opengeos/datasets/releases/download/videos/aral_sea_blended.mp4\n",
    "\n",
    "## Image layer\n",
    "# https://i.imgur.com/06Q1fSz.png\n",
    "# ((13, -130), (32, -100))\n",
    "\n",
    "# # June 2021 Sentinel‑2 mosaic\n",
    "# import ee\n",
    "# ee.Initialize()\n",
    "# sentinel = (\n",
    "#     ee.ImageCollection(\"COPERNICUS/S2_SR\")\n",
    "#       .filterDate(\"2021-06-01\", \"2021-06-30\")\n",
    "#       .filterBounds(ee.Geometry.Point(-122.4, 37.8))\n",
    "# )\n",
    "\n",
    "# map.add_earthengine(\n",
    "#     ee_object=sentinel,\n",
    "#     vis_params={\n",
    "#         \"bands\": [\"B4\", \"B3\", \"B2\"],\n",
    "#         \"min\": 0,\n",
    "#         \"max\": 3000\n",
    "#     },\n",
    "#     name=\"Sentinel-2 True Color (Jun 2021)\"\n",
    "# )\n",
    "\n",
    "# Annual mean NDVI from MODIS\n",
    "# import ee\n",
    "# ee.Initialize()\n",
    "# ndvi = (\n",
    "#     ee.ImageCollection(\"MODIS/006/MOD13A1\")\n",
    "#       .select(\"NDVI\")\n",
    "#       .filterDate(\"2021-01-01\", \"2021-12-31\")\n",
    "#       .mean()\n",
    "# )\n",
    "\n",
    "# map.add_earthengine(\n",
    "#     ee_object=ndvi,\n",
    "#     vis_params={\n",
    "#         \"min\": 0,\n",
    "#         \"max\": 9000,\n",
    "#         \"palette\": [\"white\", \"yellow\", \"green\"]\n",
    "#     },\n",
    "#     name=\"MODIS NDVI 2021\"\n",
    "# )"
   ]
  }
 ],
 "metadata": {
  "kernelspec": {
   "display_name": "510",
   "language": "python",
   "name": "python3"
  },
  "language_info": {
   "codemirror_mode": {
    "name": "ipython",
    "version": 3
   },
   "file_extension": ".py",
   "mimetype": "text/x-python",
   "name": "python",
   "nbconvert_exporter": "python",
   "pygments_lexer": "ipython3",
   "version": "3.12.8"
  }
 },
 "nbformat": 4,
 "nbformat_minor": 5
}
