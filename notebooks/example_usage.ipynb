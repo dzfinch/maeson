{
 "cells": [
  {
   "cell_type": "code",
   "execution_count": 1,
   "metadata": {},
   "outputs": [
    {
     "name": "stdout",
     "output_type": "stream",
     "text": [
      "Collecting maeson\n",
      "  Downloading maeson-0.0.1-py2.py3-none-any.whl.metadata (1.3 kB)\n",
      "Requirement already satisfied: numpy in c:\\users\\dryve\\anaconda3\\envs\\510\\lib\\site-packages (from maeson) (2.1.3)\n",
      "Downloading maeson-0.0.1-py2.py3-none-any.whl (3.2 kB)\n",
      "Installing collected packages: maeson\n",
      "Successfully installed maeson-0.0.1\n",
      "Note: you may need to restart the kernel to use updated packages.\n"
     ]
    },
    {
     "name": "stderr",
     "output_type": "stream",
     "text": [
      "\n",
      "[notice] A new release of pip is available: 25.0 -> 25.0.1\n",
      "[notice] To update, run: python.exe -m pip install --upgrade pip\n"
     ]
    }
   ],
   "source": [
    "%pip install maeson"
   ]
  },
  {
   "cell_type": "code",
   "execution_count": 5,
   "metadata": {},
   "outputs": [
    {
     "name": "stderr",
     "output_type": "stream",
     "text": [
      "<>:6: SyntaxWarning: invalid escape sequence '\\d'\n",
      "<>:6: SyntaxWarning: invalid escape sequence '\\d'\n",
      "C:\\Users\\dryve\\AppData\\Local\\Temp\\ipykernel_11624\\2388212976.py:6: SyntaxWarning: invalid escape sequence '\\d'\n",
      "  file_path = '\\data\\recorded_points.gpkg'\n",
      "C:\\Users\\dryve\\AppData\\Local\\Temp\\ipykernel_11624\\2388212976.py:6: SyntaxWarning: invalid escape sequence '\\d'\n",
      "  file_path = '\\data\\recorded_points.gpkg'\n"
     ]
    },
    {
     "ename": "ImportError",
     "evalue": "cannot import name 'calculate_accuracy_metrics' from 'maeson' (c:\\Users\\dryve\\anaconda3\\envs\\510\\Lib\\site-packages\\maeson\\__init__.py)",
     "output_type": "error",
     "traceback": [
      "\u001b[1;31m---------------------------------------------------------------------------\u001b[0m",
      "\u001b[1;31mImportError\u001b[0m                               Traceback (most recent call last)",
      "Cell \u001b[1;32mIn[5], line 3\u001b[0m\n\u001b[0;32m      1\u001b[0m \u001b[38;5;28;01mimport\u001b[39;00m\u001b[38;5;250m \u001b[39m\u001b[38;5;21;01mgeopandas\u001b[39;00m\u001b[38;5;250m \u001b[39m\u001b[38;5;28;01mas\u001b[39;00m\u001b[38;5;250m \u001b[39m\u001b[38;5;21;01mgpd\u001b[39;00m \u001b[38;5;66;03m# type: ignore\u001b[39;00m\n\u001b[0;32m      2\u001b[0m \u001b[38;5;28;01mimport\u001b[39;00m\u001b[38;5;250m \u001b[39m\u001b[38;5;21;01mmaeson\u001b[39;00m\n\u001b[1;32m----> 3\u001b[0m \u001b[38;5;28;01mfrom\u001b[39;00m\u001b[38;5;250m \u001b[39m\u001b[38;5;21;01mmaeson\u001b[39;00m\u001b[38;5;250m \u001b[39m\u001b[38;5;28;01mimport\u001b[39;00m calculate_accuracy_metrics\n\u001b[0;32m      5\u001b[0m \u001b[38;5;66;03m# Load data\u001b[39;00m\n\u001b[0;32m      6\u001b[0m file_path \u001b[38;5;241m=\u001b[39m \u001b[38;5;124m'\u001b[39m\u001b[38;5;124m\\\u001b[39m\u001b[38;5;124mdata\u001b[39m\u001b[38;5;130;01m\\r\u001b[39;00m\u001b[38;5;124mecorded_points.gpkg\u001b[39m\u001b[38;5;124m'\u001b[39m\n",
      "\u001b[1;31mImportError\u001b[0m: cannot import name 'calculate_accuracy_metrics' from 'maeson' (c:\\Users\\dryve\\anaconda3\\envs\\510\\Lib\\site-packages\\maeson\\__init__.py)"
     ]
    }
   ],
   "source": [
    "import geopandas as gpd # type: ignore\n",
    "import maeson\n",
    "from maeson import calculate_accuracy_metrics\n",
    "\n",
    "# Load data\n",
    "file_path = '\\data\\recorded_points.gpkg'\n",
    "points = gpd.read_file(file_path)\n",
    "\n",
    "# Calculate metrics\n",
    "metrics, merged_data = calculate_accuracy_metrics(\n",
    "    points,\n",
    "    spot_id_col='location_id',\n",
    "    return_merged=True\n",
    " )\n",
    "\n",
    "# Save results\n",
    "metrics.to_file('gps_metrics.gpkg')\n",
    "merged_data.to_file('annotated_points.gpkg')"
   ]
  }
 ],
 "metadata": {
  "kernelspec": {
   "display_name": "510",
   "language": "python",
   "name": "python3"
  },
  "language_info": {
   "codemirror_mode": {
    "name": "ipython",
    "version": 3
   },
   "file_extension": ".py",
   "mimetype": "text/x-python",
   "name": "python",
   "nbconvert_exporter": "python",
   "pygments_lexer": "ipython3",
   "version": "3.12.8"
  }
 },
 "nbformat": 4,
 "nbformat_minor": 2
}
