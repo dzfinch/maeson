{
 "cells": [
  {
   "cell_type": "code",
   "execution_count": null,
   "metadata": {},
   "outputs": [],
   "source": [
    "import geopandas as gpd\n",
    "import maeson\n",
    "from maeson import calculate_accuracy_metrics\n",
    "\n",
    "# Load data\n",
    "points = gpd.read_file('recorded_points.gpkg')\n",
    "\n",
    "# Calculate metrics\n",
    "metrics, merged_data = calculate_accuracy_metrics(\n",
    "...     points,\n",
    "...     spot_id_col='location_id',\n",
    "...     return_merged=True\n",
    "... )\n",
    "\n",
    "# Save results\n",
    "metrics.to_file('gps_metrics.gpkg')\n",
    "merged_data.to_file('annotated_points.gpkg')"
   ]
  }
 ],
 "metadata": {
  "language_info": {
   "name": "python"
  }
 },
 "nbformat": 4,
 "nbformat_minor": 2
}
