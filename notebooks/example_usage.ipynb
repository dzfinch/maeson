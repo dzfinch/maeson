{
 "cells": [
  {
   "cell_type": "code",
   "execution_count": null,
   "metadata": {},
   "outputs": [],
   "source": [
    "%pip install maeson"
   ]
  },
  {
   "cell_type": "code",
   "execution_count": null,
   "metadata": {},
   "outputs": [],
   "source": [
    "import geopandas as gpd  # type: ignore\n",
    "import maeson\n",
    "from maeson import calculate_accuracy_metrics\n",
    "\n",
    "# Load data\n",
    "file_path = \"\\data\\recorded_points.gpkg\"\n",
    "points = gpd.read_file(file_path)\n",
    "\n",
    "# Calculate metrics\n",
    "metrics, merged_data = calculate_accuracy_metrics(\n",
    "    points, spot_id_col=\"location_id\", return_merged=True\n",
    ")\n",
    "\n",
    "# Save results\n",
    "metrics.to_file(\"gps_metrics.gpkg\")\n",
    "merged_data.to_file(\"annotated_points.gpkg\")"
   ]
  }
 ],
 "metadata": {
  "kernelspec": {
   "display_name": "510",
   "language": "python",
   "name": "python3"
  },
  "language_info": {
   "codemirror_mode": {
    "name": "ipython",
    "version": 3
   },
   "file_extension": ".py",
   "mimetype": "text/x-python",
   "name": "python",
   "nbconvert_exporter": "python",
   "pygments_lexer": "ipython3",
   "version": "3.12.8"
  }
 },
 "nbformat": 4,
 "nbformat_minor": 2
}
