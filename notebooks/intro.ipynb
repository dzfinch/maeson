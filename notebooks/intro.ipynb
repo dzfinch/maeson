{
 "cells": [
  {
   "cell_type": "code",
   "execution_count": null,
   "metadata": {},
   "outputs": [],
   "source": [
    "import maeson as maeson"
   ]
  },
  {
   "cell_type": "code",
   "execution_count": null,
   "metadata": {},
   "outputs": [],
   "source": [
    "# Create map\n",
    "m = maeson.Map()\n",
    "\n",
    "# Add Basemap\n",
    "m.add_basemap()\n",
    "\n",
    "# Layer Control\n",
    "m.add_layer_control()\n",
    "\n",
    "# Add wms layer from URL\n",
    "wms = \"https://ahocevar.com/geoserver/wms\"\n",
    "m.add_wms(wms, layers=\"ne:ne\", name=\"Natural Earth\", opacity=0.5)\n",
    "\n",
    "\n",
    "m"
   ]
  },
  {
   "cell_type": "code",
   "execution_count": null,
   "metadata": {},
   "outputs": [],
   "source": [
    "import geopandas as gpd\n",
    "\n",
    "# Load a shapefile\n",
    "fp = gpd.read_file(\n",
    "    \"https://raw.githubusercontent.com/maeson/maeson/notebooks/data/ne_10m_admin_0_countries.zip\"\n",
    ")\n",
    "\n",
    "# Add the shapefile to the map\n",
    "m.add_vector(fp, name=\"Countries\", color=\"red\", opacity=0.5, weight=1)\n",
    "m"
   ]
  },
  {
   "cell_type": "code",
   "execution_count": null,
   "metadata": {},
   "outputs": [],
   "source": []
  }
 ],
 "metadata": {
  "kernelspec": {
   "display_name": "510",
   "language": "python",
   "name": "python3"
  },
  "language_info": {
   "codemirror_mode": {
    "name": "ipython",
    "version": 3
   },
   "file_extension": ".py",
   "mimetype": "text/x-python",
   "name": "python",
   "nbconvert_exporter": "python",
   "pygments_lexer": "ipython3",
   "version": "3.12.8"
  }
 },
 "nbformat": 4,
 "nbformat_minor": 2
}
